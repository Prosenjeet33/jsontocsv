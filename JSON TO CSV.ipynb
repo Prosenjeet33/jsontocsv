{
 "cells": [
  {
   "cell_type": "code",
   "execution_count": 11,
   "metadata": {},
   "outputs": [
    {
     "ename": "SyntaxError",
     "evalue": "invalid syntax (<ipython-input-11-8a618ba2b05a>, line 36)",
     "output_type": "error",
     "traceback": [
      "\u001b[0;36m  File \u001b[0;32m\"<ipython-input-11-8a618ba2b05a>\"\u001b[0;36m, line \u001b[0;32m36\u001b[0m\n\u001b[0;31m    path = 'r/Users/prosenjeetsaha/Desktop/DEMO.csv'\u001b[0m\n\u001b[0m    ^\u001b[0m\n\u001b[0;31mSyntaxError\u001b[0m\u001b[0;31m:\u001b[0m invalid syntax\n"
     ]
    }
   ],
   "source": [
    "import json\n",
    "import csv\n",
    "import pandas as pd\n",
    " \n",
    "cols = ['color', 'value'] \n",
    " \n",
    "data = [ \n",
    "{\n",
    "color: \"red\",\n",
    "value: \"#f00\"\n",
    "},\n",
    "{\n",
    "color: \"green\",\n",
    "value: \"#0f0\"\n",
    "},\n",
    "{\n",
    "color: \"blue\",\n",
    "value: \"#00f\"\n",
    "},\n",
    "{\n",
    "color: \"cyan\",\n",
    "value: \"#0ff\"\n",
    "},\n",
    "{\n",
    "color: \"magenta\",\n",
    "value: \"#f0f\"\n",
    "},\n",
    "{\n",
    "color: \"yellow\",\n",
    "value: \"#ff0\"\n",
    "},\n",
    "{\n",
    "color: \"black\",\n",
    "value: \"#000\"\n",
    "}\n",
    "path = 'r/Users/prosenjeetsaha/Desktop/DEMO.csv'\n",
    "with open(path, 'w') as f: \n",
    "    wr = csv.DictWriter(f, fieldnames = cols) \n",
    "    wr.writeheader() \n",
    "    wr.writerows(data)"
   ]
  },
  {
   "cell_type": "code",
   "execution_count": 9,
   "metadata": {},
   "outputs": [],
   "source": [
    "import pandas as pd\n",
    "df = pd.read_json (r'/Users/prosenjeetsaha/Desktop/Dataset/test.json')\n",
    "df.to_csv (r'/Users/prosenjeetsaha/Desktop/Dataset/Name.csv', index = None)\n"
   ]
  },
  {
   "cell_type": "code",
   "execution_count": null,
   "metadata": {},
   "outputs": [],
   "source": []
  }
 ],
 "metadata": {
  "kernelspec": {
   "display_name": "Python 3",
   "language": "python",
   "name": "python3"
  },
  "language_info": {
   "codemirror_mode": {
    "name": "ipython",
    "version": 3
   },
   "file_extension": ".py",
   "mimetype": "text/x-python",
   "name": "python",
   "nbconvert_exporter": "python",
   "pygments_lexer": "ipython3",
   "version": "3.8.5"
  }
 },
 "nbformat": 4,
 "nbformat_minor": 4
}
